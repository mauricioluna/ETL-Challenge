{
 "cells": [
  {
   "cell_type": "code",
   "execution_count": null,
   "id": "1d5e52d3",
   "metadata": {},
   "outputs": [],
   "source": [
    "'''\n",
    "-Creación de instancia en EC2 de AWS, de manera segura\n",
    "Para crear la capa gratuita, primero se debe crear una cuenta en la página de Amazon Web Services a través de\n",
    "https://aws.amazon.com/es/free/?all-free-tier.sort-by=item.additionalFields.SortRank&all-free-tier.sort-order=asc&awsf.Free%20Tier%20Types=*all&awsf.Free%20Tier%20Categories=*all\n",
    "siguiendo los pasos y confirmando correo.\n",
    "Teniendo esto listo, se realizan los requisitos previos mediante https://docs.aws.amazon.com/AWSEC2/latest/WindowsGuide/get-set-up-for-amazon-ec2.html\n",
    "donde se crean los \"Key pair\" y \"Security group\".\n",
    "Luego, usando la guia en https://docs.aws.amazon.com/AWSEC2/latest/WindowsGuide/EC2_GetStarted.html, donde primero se crea\n",
    "una instancia usando parametros especificos para Windows (en este caso), y luego conectar a la instancia mediante un archivo .pem\n",
    "que entrega una contraseña encriptada para acceder a la instancia.\n",
    "\n",
    "-Creación de Base de Datos con autenticación\n",
    "\n",
    "Para esta etapa, se usará la guia disponible en https://docs.aws.amazon.com/quickstart/latest/mongodb/deployment.html,\n",
    "donde se crea un entorno de MongoDB que utilice la instancia EC2 creada anteriormente, por lo que es conveniente seguir los pasos\n",
    "de creación en https://docs.aws.amazon.com/quickstart/latest/mongodb/step2.html para VPC existentes. En general, si se mantienen\n",
    "los parámetros por defecto se crearan los nodos sin problemas, siendo el estado del stack lo que más demora en completar, puesto que \n",
    "hay muchas variables de por medio. Al terminar con un estado \"CREATE_COMPLETE\" se crearán varios nodos de MongoDB como instancias EC2 en AWS.\n",
    "\n",
    "\n",
    "Creación de usuario para revisar la información persistida\n",
    "\n",
    "La guía anterior fue diseñada para usuarios de Linux, por lo que la etapa 3 sobre conexión a nodos de MongoDB mediante SSH \n",
    "no es posible de realizar en Windows. Sin embargo, usando el software Studio 3T, que es un IDE de MongoDB, es posible conectarse\n",
    "a los nodos mediante la guía disponible en https://setu677.medium.com/how-to-connect-to-mongodb-on-aws-ec2-instance-with-robomongo-b2977b8a112f.\n",
    "Pero esto no garantiza la creación de un usuario para acceder a la base de datos conectada.\n",
    "Ahora bien, para el caso de Linux, siguiendo la guia disponible en https://medium.com/founding-ithaka/setting-up-and-connecting-to-a-remote-mongodb-database-5df754a4da89\n",
    "es posible crear un usuario primero abriendo el shell de Mongo en la terminal (suponiendo que MongoDB está instalado) y \n",
    "colocando el siguiente código:\n",
    "ubuntu:~$ mongo\n",
    "> use admin;\n",
    "> db.createUser({\n",
    "      user: \"admin\",\n",
    "      pwd: \"myadminpassword\",\n",
    "      roles: [\n",
    "                { role: \"userAdminAnyDatabase\", db: \"admin\" },\n",
    "                { role: \"readWriteAnyDatabase\", db: \"admin\" },\n",
    "                { role: \"dbAdminAnyDatabase\",   db: \"admin\" }\n",
    "             ]\n",
    "  });\n",
    "> db.createUser({\n",
    "      user: \"user1\",\n",
    "      pwd: \"user1password\",\n",
    "      roles: [\n",
    "                { role: \"userAdmin\", db: \"sampledb\" },\n",
    "                { role: \"dbAdmin\",   db: \"sampledb\" },\n",
    "                { role: \"readWrite\", db: \"sampledb\" }\n",
    "             ]\n",
    "  });\n",
    "Luego se le permite a MongoDB tener acceso a estos controles de acceso y además garantizar acceso al puerto (27017) en la instancia EC2.\n",
    "Una vez hecho esto, se pueden probar las conexiones a la base de datos usando la libreria Pymongo en Python y establecer un pipeline de forma\n",
    "que los datos obtenidos por el Crawler de Scrapy se guarden remotamente en MongoDB.\n",
    "'''"
   ]
  }
 ],
 "metadata": {
  "kernelspec": {
   "display_name": "Python 3 (ipykernel)",
   "language": "python",
   "name": "python3"
  },
  "language_info": {
   "codemirror_mode": {
    "name": "ipython",
    "version": 3
   },
   "file_extension": ".py",
   "mimetype": "text/x-python",
   "name": "python",
   "nbconvert_exporter": "python",
   "pygments_lexer": "ipython3",
   "version": "3.9.7"
  }
 },
 "nbformat": 4,
 "nbformat_minor": 5
}
